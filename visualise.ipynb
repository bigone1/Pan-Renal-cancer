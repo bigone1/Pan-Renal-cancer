{
 "cells": [
  {
   "cell_type": "code",
   "execution_count": 5,
   "metadata": {},
   "outputs": [
    {
     "name": "stdout",
     "output_type": "stream",
     "text": [
      "The autoreload extension is already loaded. To reload it, use:\n",
      "  %reload_ext autoreload\n"
     ]
    }
   ],
   "source": [
    "%load_ext autoreload\n",
    "%autoreload 2\n",
    "%matplotlib inline\n",
    "\n",
    "import numpy as np  \n",
    "import openslide  \n",
    "from openslide import open_slide  \n",
    "\n",
    "from PIL import Image\n",
    "from __future__ import print_function\n",
    "import os\n"
   ]
  },
  {
   "cell_type": "code",
   "execution_count": 8,
   "metadata": {
    "scrolled": false
   },
   "outputs": [
    {
     "name": "stdout",
     "output_type": "stream",
     "text": [
      "/Users/user/Desktop/medical_images/above8/train/135/49185953-7348-4cd0-83ec-844a70c3bc81/TCGA-V1-A9ZR-01A-01-TSA.9D064846-1D67-4499-93F6-1F1813ECD520.svs\n",
      "/Users/user/Desktop/medical_images/above8/train/132/5b215b2a-42eb-4a2b-89cc-a7813c4129d3/TCGA-V1-A9ZG-01A-01-TSA.689D242F-AC2D-4885-A42E-78583DE7EB03.svs\n",
      "/Users/user/Desktop/medical_images/above8/train/104/19376e75-1227-4d6f-aecd-2e6ad0cf2d9c/TCGA-EJ-5506-01A-01-BS1.7f8846fa-50c5-4c55-9421-00f418022a18.svs\n",
      "/Users/user/Desktop/medical_images/above8/train/68/e1a126b1-e8d4-4848-a5ce-ff45220a581c/TCGA-CH-5772-01A-01-BS1.f02d86c3-b8bf-4750-b37b-75ad1b5c92fe.svs\n",
      "/Users/user/Desktop/medical_images/above8/train/150/7733e25d-bfc3-4ddf-874f-80dcc427616f/TCGA-VP-A879-01A-01-TSA.FA8B87D6-5632-43BF-8D36-A06E14D1EB9E.svs\n",
      "/Users/user/Desktop/medical_images/above8/train/159/50247561-ddf6-46a3-9c56-922f5f2a3bfb/TCGA-WW-A8ZI-01A-01-TSA.BB4CB36B-72D3-4DBC-A48B-B3D90EFCC873.svs\n",
      "/Users/user/Desktop/medical_images/above8/train/32/16fc34c3-b215-46e7-a57a-f43089345453/TCGA-CH-5751-01A-01-BS1.24b385ff-59dd-472a-8ff0-f5fbcc706998.svs\n",
      "/Users/user/Desktop/medical_images/above8/train/166/063a2cf8-f717-4c20-ac10-aa1859422f89/TCGA-XJ-A9DI-01A-01-TS1.2A491F91-12B2-4784-ABBE-94C4067757D1.svs\n",
      "/Users/user/Desktop/medical_images/above8/train/192/544d3cf3-91cf-4244-92b1-e864276f58fe/TCGA-YL-A8SA-01A-02-TSB.71FC9496-3817-4694-A5FD-272C5678442F.svs\n",
      "/Users/user/Desktop/medical_images/above8/train/35/0993a05e-2b4f-4929-b9f9-86aeca2f6ab0/TCGA-CH-5752-01A-01-TS1.835ed182-483e-4479-a28e-a2df1722d3c1.svs\n",
      "/Users/user/Desktop/medical_images/above8/train/195/14f85ccc-c68e-441c-b0e5-39ef9411530d/TCGA-YL-A8SF-01A-01-TSA.1FFC5593-556A-4785-BFEC-1069188A80B6.svs\n",
      "/Users/user/Desktop/medical_images/above8/train/69/13c421b1-883c-44f1-8f96-8c69f9659433/TCGA-CH-5772-01A-01-TS1.fbbd25a3-14a6-4a8b-a5e2-0fe124b56cf6.svs\n",
      "/Users/user/Desktop/medical_images/above8/train/105/7415073f-8df4-46e7-8cb4-255ca5e9e8b4/TCGA-EJ-5506-01A-01-TS1.6d6210e5-462c-46b6-a4a8-c1d7a33ae0fd.svs\n",
      "/Users/user/Desktop/medical_images/above8/train/133/a8677a21-fc5b-4b7d-a3aa-c491b27aaedf/TCGA-V1-A9ZI-01A-01-TSA.D935448D-B594-4ECA-8AFC-2CD9A72ACFA5.svs\n",
      "/Users/user/Desktop/medical_images/above8/train/134/89b2a2a8-0654-4b84-8129-82a197cb9bad/TCGA-V1-A9ZK-01A-01-TS1.543DD12A-5143-4B82-9895-61CD701E2A19.svs\n",
      "/Users/user/Desktop/medical_images/above8/train/34/55f5bf81-066b-40bf-a17b-074ae3e3bf8b/TCGA-CH-5752-01A-01-BS1.f8014a30-a190-4198-94d7-fc9e841fdc67.svs\n",
      "/Users/user/Desktop/medical_images/above8/train/194/2ea180e7-5a21-45bb-a7e4-0447aff40c84/TCGA-YL-A8SC-01A-01-TSA.F9DD8CF3-5F18-4572-81AE-E6E1831C960C.svs\n",
      "/Users/user/Desktop/medical_images/above8/train/158/94827a0d-32d6-42b5-80a4-dfe9d562dfa6/TCGA-VP-AA1N-01A-03-TSC.DA36ADC6-D5DC-4861-90A6-3B3BD1B61D30.svs\n",
      "/Users/user/Desktop/medical_images/above8/train/167/21a62340-8b36-4f55-b24d-dbc224d688a9/TCGA-XJ-A9DK-01A-01-TS1.CB9BC055-DBB5-4EA9-A59A-6249F5E28BC7.svs\n",
      "/Users/user/Desktop/medical_images/above8/train/151/9864e574-7ac7-4c18-a7d6-e7c08f6eedc3/TCGA-VP-A87B-01A-01-TS1.BC560038-D3F6-4E5F-9953-F7D5F76BE7C5.svs\n",
      "/Users/user/Desktop/medical_images/above8/train/169/25eff5cf-5696-47ec-bc84-ea4d861adc74/TCGA-XJ-A9DX-01A-01-TS1.C68E181A-6D9D-471D-B1DD-21662BC40949.svs\n",
      "/Users/user/Desktop/medical_images/above8/train/204/1459c4ef-625d-49b1-a7ab-842c3a6c2d89/TCGA-YL-A8SR-01B-01-TSA.EA0815AA-B984-4C63-A90E-8E832E1E2A3A.svs\n",
      "/Users/user/Desktop/medical_images/above8/train/202/d16c0d32-c3d2-4cb3-ab92-35077ec3a761/TCGA-YL-A8SP-01B-01-TSA.9C8F6607-F12D-4FFF-A214-718AFDAED8AE.svs\n",
      "/Users/user/Desktop/medical_images/above8/train/205/0f55c7f2-4563-445c-87b4-cadfeb3239ca/TCGA-YL-A9WH-01A-01-TS1.0AC72DF1-8DD2-4502-818A-26AFD25A6FEA.svs\n",
      "/Users/user/Desktop/medical_images/above8/train/180/2f506df1-bfa8-41dc-9150-4f80f2fad04f/TCGA-XQ-A8TA-01A-01-TS1.26C990FC-F04E-4E9C-AB4D-1199F63D8584.svs\n",
      "/Users/user/Desktop/medical_images/above8/train/187/41e0da2c-5a2c-4ae1-a1ef-06fade892dac/TCGA-YL-A8HL-01A-01-TSA.44156110-199F-4D94-9402-B94066EB689F.svs\n",
      "/Users/user/Desktop/medical_images/above8/train/173/0c4e692a-02b0-4b91-a108-8784b54b9367/TCGA-XK-AAJ3-01Z-00-DX1.48C36FDF-232A-49BC-AAB5-4B8BFB215743.svs\n",
      "/Users/user/Desktop/medical_images/above8/train/145/84a80cb5-7a65-4b21-aa48-db8262319c4c/TCGA-VN-A943-01A-01-TS1.6CE59D3F-3331-4314-B88D-2BDB10514FA0.svs\n",
      "/Users/user/Desktop/medical_images/above8/train/11/e0761695-5ff9-4986-983a-74f33785c69a/TCGA-4L-AA1F-01A-01-TS1.A9CC88BC-25E5-4659-9516-601403819306.svs\n",
      "/Users/user/Desktop/medical_images/above8/train/142/483fe4dd-27d5-490e-a1dd-4ea10c984325/TCGA-VN-A88P-01A-01-TSA.9CE4D2C0-E657-429B-8285-CD8CE5333F75.svs\n",
      "/Users/user/Desktop/medical_images/above8/train/129/eec0beaf-abfb-472a-9529-7dce05a6c3e9/TCGA-V1-A9Z7-01A-01-TSA.90DBD6E9-DB82-4AFB-8D16-BB509D747A1E.svs\n",
      "/Users/user/Desktop/medical_images/above8/train/42/a8a7f63f-f58b-4f55-9c0b-2c96894a249e/TCGA-CH-5761-11A-01-TS1.bf06da2a-34df-46d6-929f-fdccb3e40053.svs\n",
      "/Users/user/Desktop/medical_images/above8/train/80/7e8758d8-68b5-4d92-8416-59e81afd18d2/TCGA-CH-5792-01A-01-TS1.116c4e22-985e-40b0-8c5d-f9095fe0a05f.svs\n",
      "/Users/user/Desktop/medical_images/above8/train/120/5d090c7c-cb8a-4a97-813b-f2424cc7f7c9/TCGA-V1-A9O9-01A-01-TS1.D61A093A-FF1C-49BC-A6E8-B11847A728A8.svs\n",
      "/Users/user/Desktop/medical_images/above8/train/143/bde44edd-f2c0-4870-a599-4e277cc5c7cf/TCGA-VN-A88Q-01A-01-TS1.9FFEF08D-3380-410A-8859-D0C6777CC42F.svs\n",
      "/Users/user/Desktop/medical_images/above8/train/172/afee9c81-a0e7-403d-8a17-372086832062/TCGA-XK-AAIW-01A-01-TS1.61B002A3-60BA-4122-A5B2-75BA55588E41.svs\n",
      "/Users/user/Desktop/medical_images/above8/train/186/6b29570f-8fc8-493c-aba3-a344ff3f4c21/TCGA-YL-A8HK-01A-01-TSA.F34A1AFE-39C4-48BE-BB64-273A48689ED5.svs\n",
      "/Users/user/Desktop/medical_images/above8/train/181/d42f22ee-1d40-45dd-b7bd-ce4ca7f19b29/TCGA-XQ-A8TB-01A-01-TS1.A7BE5D1C-349A-4F7F-A4EE-D7814DF8400A.svs\n",
      "/Users/user/Desktop/medical_images/above8/train/175/65e83471-a421-4864-a9bf-0567449262b5/TCGA-XK-AAJP-01Z-00-DX1.D61D88E0-5514-46C0-A197-8DC04A47A82D.svs\n",
      "/Users/user/Desktop/medical_images/above8/train/21/e7fea13b-7002-415a-a14d-2afdb8774c06/TCGA-CH-5741-01A-01-TS1.84192b00-7524-43d9-bfc5-f884e185ffb4.svs\n",
      "/Users/user/Desktop/medical_images/above8/train/121/0b086137-b5a5-4daa-a165-dbc9dbfcd517/TCGA-V1-A9OA-01A-01-TS1.C876BFB7-645C-4226-9E7D-592277D89A10.svs\n",
      "/Users/user/Desktop/medical_images/above8/train/119/d7cfab4f-50da-4f0d-b342-b21b090cb9e9/TCGA-V1-A9O7-01A-02-TSB.4E28EE7F-02F1-4E59-8D9B-A5D24FB37584.svs\n",
      "/Users/user/Desktop/medical_images/above8/train/128/4418f5a3-7aca-4a80-8a99-6f2f620be0fd/TCGA-V1-A9OY-01A-01-TSA.094F989C-9E96-4222-BB30-07DA0279891D.svs\n",
      "/Users/user/Desktop/medical_images/above8/train/117/407de1e0-8841-4913-9c3a-2eb3029c4c8e/TCGA-EJ-5514-01A-01-BS1.fad55233-8279-4a05-badc-2fe33e5fed44.svs\n",
      "/Users/user/Desktop/medical_images/above8/train/198/33da77d8-d50b-4351-831b-7bc47f41c641/TCGA-YL-A8SJ-01B-01-TSA.A0CD7212-21C7-4589-9149-82486D050A42.svs\n",
      "/Users/user/Desktop/medical_images/above8/train/153/40624f49-cc57-43a2-a129-c935b0379e1a/TCGA-VP-A87D-01A-01-TS1.8940D320-BAA9-4BCA-846A-0C81E97C530C.svs\n",
      "/Users/user/Desktop/medical_images/above8/train/36/e0b20ffb-38e2-42cf-8db7-5cfea7ec2827/TCGA-CH-5753-01A-01-BS1.4311c533-f9c1-4c6f-8b10-922daa3c2e3e.svs\n",
      "/Users/user/Desktop/medical_images/above8/train/191/60067ac6-b322-49f3-a6dd-9365cbef9b76/TCGA-YL-A8S9-01A-01-TSA.36E5A73B-1F8B-499C-B3AE-D756E90695FA.svs\n",
      "/Users/user/Desktop/medical_images/above8/train/65/14f41656-eeae-4860-8f18-f4ad8473426a/TCGA-CH-5769-11A-01-TS1.ed01f158-12e7-403f-9c4e-e5e101a6e805.svs\n",
      "/Users/user/Desktop/medical_images/above8/train/136/7b9dfa85-9c28-4c42-a522-838713cce55f/TCGA-VN-A88I-01A-01-TSA.B75FB23A-72C1-40D7-91DA-09F7EFAB5296.svs\n",
      "/Users/user/Desktop/medical_images/above8/train/107/d0d9f2e9-8fc2-4ee4-b4f3-b7f5ab3bb032/TCGA-EJ-5507-01A-01-TS1.ccdb7781-d4a9-4a19-9d4f-cac6c6fdb822.svs\n",
      "/Users/user/Desktop/medical_images/above8/train/37/14799234-5aa8-4c4e-8976-11576eccb285/TCGA-CH-5753-01A-01-TS1.11fde5fd-97ec-4fb9-8ac2-1c08f47cf6a0.svs\n",
      "/Users/user/Desktop/medical_images/above8/train/197/03a96752-d6c1-443f-a0ae-5da0ff3b33a7/TCGA-YL-A8SI-01A-01-TSA.E1A0AFF5-CD6F-4E05-BE6F-C76F1864363D.svs\n",
      "/Users/user/Desktop/medical_images/above8/train/199/bc827a89-1a10-49e8-ae61-274922d55ad6/TCGA-YL-A8SK-01B-02-TSB.584CE622-2AE8-421A-855F-DB7CFBAE45AF.svs\n",
      "/Users/user/Desktop/medical_images/above8/train/39/e58c0a9c-e2e4-45e1-98c0-688dbc2a404c/TCGA-CH-5754-01A-01-TS1.12486c1b-5dfe-429b-8a7d-75ab3889420a.svs\n",
      "/Users/user/Desktop/medical_images/above8/train/99/f43596de-8480-4c7a-80ba-27a9dd69bf63/TCGA-EJ-5503-01A-01-TS1.f2f95ded-ffa6-4198-9222-35b416879c12.svs\n",
      "/Users/user/Desktop/medical_images/above8/train/137/e5ee89db-d758-427e-a266-e56832c54f14/TCGA-VN-A88K-01A-01-TSA.16FB693D-47C8-4E02-98C7-AF766FAD8F59.svs\n",
      "/Users/user/Desktop/medical_images/above8/train/63/bb12844b-7550-46f1-93bd-78f88ab505c7/TCGA-CH-5769-01A-01-BS1.3218f632-e6a5-4d08-9cdf-c5a834925b3e.svs\n",
      "/Users/user/Desktop/medical_images/above8/train/64/a75dda7c-ecbc-42a9-a5ea-2807772e2212/TCGA-CH-5769-01A-01-TS1.7b56e75b-9098-4afb-8bfc-acf74ff72f77.svs\n",
      "/Users/user/Desktop/medical_images/above8/train/209/3408c9f3-4816-4f10-9869-2659c6d5b8c0/TCGA-YL-A9WL-01A-01-TSA.2339347C-F602-42E7-93CD-6E14C9DE12D6.svs\n",
      "/Users/user/Desktop/medical_images/above8/train/207/3e53152b-1a92-4a79-acd3-32199e43dc26/TCGA-YL-A9WJ-01A-01-TSA.9E99CB4C-DBA6-40F5-AB4B-38C2EBF3F9C4.svs\n",
      "/Users/user/Desktop/medical_images/above8/train/206/fda71eb1-8c54-4f4d-aeae-863aaf630459/TCGA-YL-A9WI-01A-01-TS1.982424C1-50D5-4F15-8210-A9A4994C680D.svs\n",
      "/Users/user/Desktop/medical_images/above8/train/201/cefd5f4b-14bc-4173-9c53-a616f435b7e2/TCGA-YL-A8SO-01B-03-TSC.18585A82-3468-458B-BE99-BE0E03BF48BF.svs\n",
      "/Users/user/Desktop/medical_images/above8/train/123/54764970-63fa-4580-bbf8-fc4ce51040bc/TCGA-V1-A9OH-01A-01-TS1.C2BCA36E-39D9-4A49-AE5C-4BEB1C6B3831.svs\n",
      "/Users/user/Desktop/medical_images/above8/train/70/4df79b9c-3fd5-4d9e-b795-96afa57e7849/TCGA-CH-5772-11A-01-TS1.af73f2d1-f6a5-4fba-bd82-70000140b275.svs\n",
      "/Users/user/Desktop/medical_images/above8/train/124/deb7a3a5-0cd2-476e-b9b7-5882c1b84ef9/TCGA-V1-A9OL-01A-01-TSA.BBF8793F-C75D-46BC-9229-C5EB90C3CAE7.svs\n",
      "/Users/user/Desktop/medical_images/above8/train/184/cee502ae-a862-41e3-9f1f-fd7c00a75202/TCGA-YJ-A8SW-01A-01-TSA.B5FDC456-41FD-4A6B-86AF-342C253BF2EE.svs\n",
      "/Users/user/Desktop/medical_images/above8/train/170/4f63fe09-5816-40d9-ae8c-6ca34d90f58e/TCGA-XK-AAIR-01Z-00-DX1.FDE3AE0A-828C-494F-957D-3FCAD7D8CE4A.svs\n",
      "/Users/user/Desktop/medical_images/above8/train/177/dafa1f49-59ed-4de8-8ae9-411b09b247d4/TCGA-XK-AAJT-01Z-00-DX1.0ADE397E-A876-4D29-87DD-3B203CC00136.svs\n",
      "/Users/user/Desktop/medical_images/above8/train/183/016ff26e-7828-4c47-903d-3c802c3990f6/TCGA-Y6-A9XI-01A-01-TSA.4066C308-9C8B-475A-B22B-CBA72743D0BE.svs\n",
      "/Users/user/Desktop/medical_images/above8/train/148/b9768eb7-d1e5-48b7-ad51-eee5ed746d85/TCGA-VP-A876-01A-01-TS1.C4BA0F3F-2AB1-4605-AA48-E7B36FC2ACF2.svs\n",
      "/Users/user/Desktop/medical_images/above8/train/146/f840ed09-9479-4a30-98a9-bcdceb0944c8/TCGA-VP-A872-01A-01-TS1.55B9394B-7B38-479A-91BD-C0E0C97787E4.svs\n",
      "/Users/user/Desktop/medical_images/above8/train/85/f743307f-c071-45d5-a906-ba62db4a5db5/TCGA-EJ-5495-01A-01-BS1.64c2f5c8-36bf-4d76-808f-55c3a3d6e4c6.svs\n",
      "/Users/user/Desktop/medical_images/above8/train/40/ba859299-db71-45cb-a497-3927605ff260/TCGA-CH-5761-01A-01-BS1.04e87587-e08e-49d8-a3c2-3c62ad6d38eb.svs\n",
      "/Users/user/Desktop/medical_images/above8/train/5/96da3902-4253-4e15-98d9-bf088737efc0/TCGA-2A-A8VX-01A-01-TSA.E697DF9D-58CF-468C-AF29-A26F44757653.svs\n",
      "/Users/user/Desktop/medical_images/above8/train/171/083c5ae8-e488-4b5c-a208-c096e771fcba/TCGA-XK-AAIV-01A-01-TS1.D90371C6-5451-4EC9-AF0A-26551470F36E.svs\n"
     ]
    }
   ],
   "source": [
    "\n",
    "\n",
    "for root, dirs, files in os.walk(\"/Users/user/Desktop/medical_images/above8/train\"):\n",
    "    for file in files:\n",
    "        if file.endswith(\".svs\"):\n",
    "             print(os.path.join(root, file))\n",
    "                \n",
    "\n"
   ]
  },
  {
   "cell_type": "code",
   "execution_count": 11,
   "metadata": {},
   "outputs": [
    {
     "ename": "MemoryError",
     "evalue": "Integer overflow in ysize",
     "output_type": "error",
     "traceback": [
      "\u001b[0;31m---------------------------------------------------------------------------\u001b[0m",
      "\u001b[0;31mMemoryError\u001b[0m                               Traceback (most recent call last)",
      "\u001b[0;32m<ipython-input-11-25d99ead93c2>\u001b[0m in \u001b[0;36m<module>\u001b[0;34m()\u001b[0m\n\u001b[1;32m      4\u001b[0m \u001b[0;31m#slide = open_slide(files[0])\u001b[0m\u001b[0;34m\u001b[0m\u001b[0;34m\u001b[0m\u001b[0m\n\u001b[1;32m      5\u001b[0m \u001b[0ma\u001b[0m\u001b[0;34m,\u001b[0m\u001b[0mb\u001b[0m\u001b[0;34m=\u001b[0m \u001b[0mimage\u001b[0m\u001b[0;34m.\u001b[0m\u001b[0mlevel_dimensions\u001b[0m\u001b[0;34m[\u001b[0m\u001b[0;36m0\u001b[0m\u001b[0;34m]\u001b[0m\u001b[0;34m\u001b[0m\u001b[0m\n\u001b[0;32m----> 6\u001b[0;31m \u001b[0mim\u001b[0m \u001b[0;34m=\u001b[0m \u001b[0mimage\u001b[0m\u001b[0;34m.\u001b[0m\u001b[0mread_region\u001b[0m\u001b[0;34m(\u001b[0m\u001b[0;34m(\u001b[0m\u001b[0;36m0\u001b[0m\u001b[0;34m,\u001b[0m\u001b[0;36m0\u001b[0m\u001b[0;34m)\u001b[0m\u001b[0;34m,\u001b[0m\u001b[0;36m0\u001b[0m\u001b[0;34m,\u001b[0m\u001b[0;34m(\u001b[0m\u001b[0ma\u001b[0m\u001b[0;34m,\u001b[0m\u001b[0mb\u001b[0m\u001b[0;34m)\u001b[0m\u001b[0;34m)\u001b[0m\u001b[0;34m\u001b[0m\u001b[0m\n\u001b[0m\u001b[1;32m      7\u001b[0m \u001b[0mimg\u001b[0m\u001b[0;34m=\u001b[0m\u001b[0mim\u001b[0m\u001b[0;34m.\u001b[0m\u001b[0mconvert\u001b[0m\u001b[0;34m(\u001b[0m\u001b[0;34m\"RGB\"\u001b[0m\u001b[0;34m)\u001b[0m\u001b[0;34m\u001b[0m\u001b[0m\n\u001b[1;32m      8\u001b[0m \u001b[0mimg\u001b[0m\u001b[0;34m=\u001b[0m\u001b[0mnp\u001b[0m\u001b[0;34m.\u001b[0m\u001b[0masarray\u001b[0m\u001b[0;34m(\u001b[0m\u001b[0mimg\u001b[0m\u001b[0;34m)\u001b[0m\u001b[0;34m.\u001b[0m\u001b[0mastype\u001b[0m\u001b[0;34m(\u001b[0m\u001b[0mnp\u001b[0m\u001b[0;34m.\u001b[0m\u001b[0mfloat32\u001b[0m\u001b[0;34m)\u001b[0m\u001b[0;34m\u001b[0m\u001b[0m\n",
      "\u001b[0;32m/Users/user/mspace/lib/python2.7/site-packages/openslide/__init__.pyc\u001b[0m in \u001b[0;36mread_region\u001b[0;34m(self, location, level, size)\u001b[0m\n\u001b[1;32m    221\u001b[0m         function is not premultiplied.\"\"\"\n\u001b[1;32m    222\u001b[0m         return lowlevel.read_region(self._osr, location[0], location[1],\n\u001b[0;32m--> 223\u001b[0;31m                 level, size[0], size[1])\n\u001b[0m\u001b[1;32m    224\u001b[0m \u001b[0;34m\u001b[0m\u001b[0m\n\u001b[1;32m    225\u001b[0m \u001b[0;34m\u001b[0m\u001b[0m\n",
      "\u001b[0;32m/Users/user/mspace/lib/python2.7/site-packages/openslide/lowlevel.pyc\u001b[0m in \u001b[0;36mread_region\u001b[0;34m(slide, x, y, level, w, h)\u001b[0m\n\u001b[1;32m    258\u001b[0m     \u001b[0mbuf\u001b[0m \u001b[0;34m=\u001b[0m \u001b[0;34m(\u001b[0m\u001b[0mw\u001b[0m \u001b[0;34m*\u001b[0m \u001b[0mh\u001b[0m \u001b[0;34m*\u001b[0m \u001b[0mc_uint32\u001b[0m\u001b[0;34m)\u001b[0m\u001b[0;34m(\u001b[0m\u001b[0;34m)\u001b[0m\u001b[0;34m\u001b[0m\u001b[0m\n\u001b[1;32m    259\u001b[0m     \u001b[0m_read_region\u001b[0m\u001b[0;34m(\u001b[0m\u001b[0mslide\u001b[0m\u001b[0;34m,\u001b[0m \u001b[0mbuf\u001b[0m\u001b[0;34m,\u001b[0m \u001b[0mx\u001b[0m\u001b[0;34m,\u001b[0m \u001b[0my\u001b[0m\u001b[0;34m,\u001b[0m \u001b[0mlevel\u001b[0m\u001b[0;34m,\u001b[0m \u001b[0mw\u001b[0m\u001b[0;34m,\u001b[0m \u001b[0mh\u001b[0m\u001b[0;34m)\u001b[0m\u001b[0;34m\u001b[0m\u001b[0m\n\u001b[0;32m--> 260\u001b[0;31m     \u001b[0;32mreturn\u001b[0m \u001b[0m_load_image\u001b[0m\u001b[0;34m(\u001b[0m\u001b[0mbuf\u001b[0m\u001b[0;34m,\u001b[0m \u001b[0;34m(\u001b[0m\u001b[0mw\u001b[0m\u001b[0;34m,\u001b[0m \u001b[0mh\u001b[0m\u001b[0;34m)\u001b[0m\u001b[0;34m)\u001b[0m\u001b[0;34m\u001b[0m\u001b[0m\n\u001b[0m\u001b[1;32m    261\u001b[0m \u001b[0;34m\u001b[0m\u001b[0m\n\u001b[1;32m    262\u001b[0m \u001b[0mget_error\u001b[0m \u001b[0;34m=\u001b[0m \u001b[0m_func\u001b[0m\u001b[0;34m(\u001b[0m\u001b[0;34m'openslide_get_error'\u001b[0m\u001b[0;34m,\u001b[0m \u001b[0mc_char_p\u001b[0m\u001b[0;34m,\u001b[0m \u001b[0;34m[\u001b[0m\u001b[0m_OpenSlide\u001b[0m\u001b[0;34m]\u001b[0m\u001b[0;34m,\u001b[0m \u001b[0m_check_string\u001b[0m\u001b[0;34m)\u001b[0m\u001b[0;34m\u001b[0m\u001b[0m\n",
      "\u001b[0;32m/Users/user/mspace/lib/python2.7/site-packages/openslide/lowlevel.pyc\u001b[0m in \u001b[0;36m_load_image\u001b[0;34m(buf, size)\u001b[0m\n\u001b[1;32m     63\u001b[0m         \u001b[0;34m'''buf must be a mutable buffer.'''\u001b[0m\u001b[0;34m\u001b[0m\u001b[0m\n\u001b[1;32m     64\u001b[0m         \u001b[0m_convert\u001b[0m\u001b[0;34m.\u001b[0m\u001b[0margb2rgba\u001b[0m\u001b[0;34m(\u001b[0m\u001b[0mbuf\u001b[0m\u001b[0;34m)\u001b[0m\u001b[0;34m\u001b[0m\u001b[0m\n\u001b[0;32m---> 65\u001b[0;31m         \u001b[0;32mreturn\u001b[0m \u001b[0mPIL\u001b[0m\u001b[0;34m.\u001b[0m\u001b[0mImage\u001b[0m\u001b[0;34m.\u001b[0m\u001b[0mfrombuffer\u001b[0m\u001b[0;34m(\u001b[0m\u001b[0;34m'RGBA'\u001b[0m\u001b[0;34m,\u001b[0m \u001b[0msize\u001b[0m\u001b[0;34m,\u001b[0m \u001b[0mbuf\u001b[0m\u001b[0;34m,\u001b[0m \u001b[0;34m'raw'\u001b[0m\u001b[0;34m,\u001b[0m \u001b[0;34m'RGBA'\u001b[0m\u001b[0;34m,\u001b[0m \u001b[0;36m0\u001b[0m\u001b[0;34m,\u001b[0m \u001b[0;36m1\u001b[0m\u001b[0;34m)\u001b[0m\u001b[0;34m\u001b[0m\u001b[0m\n\u001b[0m\u001b[1;32m     66\u001b[0m \u001b[0;32mexcept\u001b[0m \u001b[0mImportError\u001b[0m\u001b[0;34m:\u001b[0m\u001b[0;34m\u001b[0m\u001b[0m\n\u001b[1;32m     67\u001b[0m     \u001b[0;32mdef\u001b[0m \u001b[0m_load_image\u001b[0m\u001b[0;34m(\u001b[0m\u001b[0mbuf\u001b[0m\u001b[0;34m,\u001b[0m \u001b[0msize\u001b[0m\u001b[0;34m)\u001b[0m\u001b[0;34m:\u001b[0m\u001b[0;34m\u001b[0m\u001b[0m\n",
      "\u001b[0;32m/Users/user/mspace/lib/python2.7/site-packages/PIL/Image.pyc\u001b[0m in \u001b[0;36mfrombuffer\u001b[0;34m(mode, size, data, decoder_name, *args)\u001b[0m\n\u001b[1;32m   2384\u001b[0m             \u001b[0mim\u001b[0m \u001b[0;34m=\u001b[0m \u001b[0mnew\u001b[0m\u001b[0;34m(\u001b[0m\u001b[0mmode\u001b[0m\u001b[0;34m,\u001b[0m \u001b[0;34m(\u001b[0m\u001b[0;36m1\u001b[0m\u001b[0;34m,\u001b[0m \u001b[0;36m1\u001b[0m\u001b[0;34m)\u001b[0m\u001b[0;34m)\u001b[0m\u001b[0;34m\u001b[0m\u001b[0m\n\u001b[1;32m   2385\u001b[0m             im = im._new(\n\u001b[0;32m-> 2386\u001b[0;31m                 \u001b[0mcore\u001b[0m\u001b[0;34m.\u001b[0m\u001b[0mmap_buffer\u001b[0m\u001b[0;34m(\u001b[0m\u001b[0mdata\u001b[0m\u001b[0;34m,\u001b[0m \u001b[0msize\u001b[0m\u001b[0;34m,\u001b[0m \u001b[0mdecoder_name\u001b[0m\u001b[0;34m,\u001b[0m \u001b[0mNone\u001b[0m\u001b[0;34m,\u001b[0m \u001b[0;36m0\u001b[0m\u001b[0;34m,\u001b[0m \u001b[0margs\u001b[0m\u001b[0;34m)\u001b[0m\u001b[0;34m\u001b[0m\u001b[0m\n\u001b[0m\u001b[1;32m   2387\u001b[0m                 )\n\u001b[1;32m   2388\u001b[0m             \u001b[0mim\u001b[0m\u001b[0;34m.\u001b[0m\u001b[0mreadonly\u001b[0m \u001b[0;34m=\u001b[0m \u001b[0;36m1\u001b[0m\u001b[0;34m\u001b[0m\u001b[0m\n",
      "\u001b[0;31mMemoryError\u001b[0m: Integer overflow in ysize"
     ]
    }
   ],
   "source": [
    "image=openslide.OpenSlide(\"/Users/user/Desktop/medical_images/above8/train/135/49185953-7348-4cd0-83ec-844a70c3bc81/TCGA-V1-A9ZR-01A-01-TSA.9D064846-1D67-4499-93F6-1F1813ECD520.svs\")\n",
    "#Specify which image/slide it is. For this example I will\n",
    "#use slide 7. \n",
    "#slide = open_slide(files[0])\n",
    "a,b= image.level_dimensions[0]\n",
    "im = image.read_region((0,0),0,(a,b))\n",
    "img=im.convert(\"RGB\")\n",
    "img=np.asarray(img).astype(np.float32)"
   ]
  },
  {
   "cell_type": "code",
   "execution_count": 10,
   "metadata": {
    "scrolled": true
   },
   "outputs": [
    {
     "ename": "NameError",
     "evalue": "name 'img' is not defined",
     "output_type": "error",
     "traceback": [
      "\u001b[0;31m---------------------------------------------------------------------------\u001b[0m",
      "\u001b[0;31mNameError\u001b[0m                                 Traceback (most recent call last)",
      "\u001b[0;32m<ipython-input-10-d47d550b07f7>\u001b[0m in \u001b[0;36m<module>\u001b[0;34m()\u001b[0m\n\u001b[0;32m----> 1\u001b[0;31m \u001b[0mimgplot\u001b[0m \u001b[0;34m=\u001b[0m \u001b[0mplt\u001b[0m\u001b[0;34m.\u001b[0m\u001b[0mimshow\u001b[0m\u001b[0;34m(\u001b[0m\u001b[0mimg\u001b[0m\u001b[0;34m.\u001b[0m\u001b[0mastype\u001b[0m\u001b[0;34m(\u001b[0m\u001b[0mnp\u001b[0m\u001b[0;34m.\u001b[0m\u001b[0mfloat32\u001b[0m\u001b[0;34m)\u001b[0m\u001b[0;34m)\u001b[0m\u001b[0;34m\u001b[0m\u001b[0m\n\u001b[0m",
      "\u001b[0;31mNameError\u001b[0m: name 'img' is not defined"
     ]
    }
   ],
   "source": [
    "imgplot = plt.imshow(img.astype(np.float32))"
   ]
  },
  {
   "cell_type": "code",
   "execution_count": 5,
   "metadata": {},
   "outputs": [
    {
     "ename": "NameError",
     "evalue": "name 'R' is not defined",
     "output_type": "error",
     "traceback": [
      "\u001b[0;31m---------------------------------------------------------------------------\u001b[0m",
      "\u001b[0;31mNameError\u001b[0m                                 Traceback (most recent call last)",
      "\u001b[0;32m<ipython-input-5-848aebae2af2>\u001b[0m in \u001b[0;36m<module>\u001b[0;34m()\u001b[0m\n\u001b[0;32m----> 1\u001b[0;31m \u001b[0mR\u001b[0m\u001b[0;34m.\u001b[0m\u001b[0mdtype\u001b[0m\u001b[0;34m\u001b[0m\u001b[0m\n\u001b[0m\u001b[1;32m      2\u001b[0m \u001b[0;34m\u001b[0m\u001b[0m\n",
      "\u001b[0;31mNameError\u001b[0m: name 'R' is not defined"
     ]
    }
   ],
   "source": [
    "\n",
    "\n"
   ]
  },
  {
   "cell_type": "code",
   "execution_count": null,
   "metadata": {},
   "outputs": [],
   "source": []
  },
  {
   "cell_type": "code",
   "execution_count": 210,
   "metadata": {},
   "outputs": [],
   "source": [
    "R=(img[:,:,0])\n",
    "G=(img[:,:,1])\n",
    "B=(img[:,:,2])\n",
    "\n",
    "BR = (100.0*B*256)/((1+R+G)*(1+R+G+B))\n",
    "#BR = (np.round(1.0*BR/np.max(BR)))*255\n",
    "BR=BR.astype(np.uint8)\n"
   ]
  },
  {
   "cell_type": "code",
   "execution_count": 213,
   "metadata": {},
   "outputs": [
    {
     "data": {
      "text/plain": [
       "{0,\n",
       " 1,\n",
       " 2,\n",
       " 3,\n",
       " 4,\n",
       " 5,\n",
       " 6,\n",
       " 7,\n",
       " 8,\n",
       " 9,\n",
       " 10,\n",
       " 11,\n",
       " 12,\n",
       " 13,\n",
       " 14,\n",
       " 15,\n",
       " 16,\n",
       " 17,\n",
       " 18,\n",
       " 19,\n",
       " 20,\n",
       " 21,\n",
       " 22,\n",
       " 23,\n",
       " 24,\n",
       " 25,\n",
       " 26,\n",
       " 27,\n",
       " 28,\n",
       " 29,\n",
       " 30,\n",
       " 31,\n",
       " 32,\n",
       " 33,\n",
       " 34,\n",
       " 35,\n",
       " 36,\n",
       " 37,\n",
       " 38,\n",
       " 39,\n",
       " 40,\n",
       " 41,\n",
       " 42,\n",
       " 43,\n",
       " 44,\n",
       " 45,\n",
       " 46,\n",
       " 47,\n",
       " 48,\n",
       " 49,\n",
       " 50,\n",
       " 51,\n",
       " 52,\n",
       " 53,\n",
       " 54,\n",
       " 55,\n",
       " 56,\n",
       " 57,\n",
       " 58,\n",
       " 59,\n",
       " 60,\n",
       " 61,\n",
       " 62,\n",
       " 63,\n",
       " 64,\n",
       " 65,\n",
       " 66,\n",
       " 67,\n",
       " 68,\n",
       " 69,\n",
       " 70,\n",
       " 71,\n",
       " 72,\n",
       " 73,\n",
       " 74,\n",
       " 75,\n",
       " 76,\n",
       " 77,\n",
       " 78,\n",
       " 79,\n",
       " 80,\n",
       " 81,\n",
       " 82,\n",
       " 83,\n",
       " 84,\n",
       " 85,\n",
       " 86,\n",
       " 87,\n",
       " 88,\n",
       " 89,\n",
       " 90,\n",
       " 91,\n",
       " 92,\n",
       " 93,\n",
       " 94,\n",
       " 95,\n",
       " 96,\n",
       " 97,\n",
       " 98,\n",
       " 99,\n",
       " 100,\n",
       " 101,\n",
       " 102,\n",
       " 103,\n",
       " 104,\n",
       " 105,\n",
       " 106,\n",
       " 107,\n",
       " 108,\n",
       " 109,\n",
       " 110,\n",
       " 111,\n",
       " 112,\n",
       " 113,\n",
       " 114,\n",
       " 115,\n",
       " 116,\n",
       " 117,\n",
       " 118,\n",
       " 119,\n",
       " 120,\n",
       " 121,\n",
       " 122,\n",
       " 123,\n",
       " 124,\n",
       " 125,\n",
       " 126,\n",
       " 127,\n",
       " 128,\n",
       " 129,\n",
       " 130,\n",
       " 131,\n",
       " 132,\n",
       " 133,\n",
       " 134,\n",
       " 135,\n",
       " 136,\n",
       " 137,\n",
       " 138,\n",
       " 139,\n",
       " 140,\n",
       " 141,\n",
       " 142,\n",
       " 143,\n",
       " 144,\n",
       " 145,\n",
       " 146,\n",
       " 147,\n",
       " 148,\n",
       " 149,\n",
       " 150,\n",
       " 151,\n",
       " 152,\n",
       " 153,\n",
       " 154,\n",
       " 155,\n",
       " 156,\n",
       " 157,\n",
       " 158,\n",
       " 159,\n",
       " 160,\n",
       " 161,\n",
       " 162,\n",
       " 163,\n",
       " 164,\n",
       " 165,\n",
       " 166,\n",
       " 167,\n",
       " 168,\n",
       " 169,\n",
       " 170,\n",
       " 171,\n",
       " 172,\n",
       " 173,\n",
       " 174,\n",
       " 175,\n",
       " 176,\n",
       " 177,\n",
       " 178,\n",
       " 179,\n",
       " 180,\n",
       " 181,\n",
       " 182,\n",
       " 183,\n",
       " 184,\n",
       " 185,\n",
       " 186,\n",
       " 187,\n",
       " 188,\n",
       " 189,\n",
       " 190,\n",
       " 191,\n",
       " 192,\n",
       " 193,\n",
       " 194,\n",
       " 195,\n",
       " 196,\n",
       " 197,\n",
       " 198,\n",
       " 199,\n",
       " 200,\n",
       " 201,\n",
       " 202,\n",
       " 203,\n",
       " 204,\n",
       " 205,\n",
       " 206,\n",
       " 207,\n",
       " 208,\n",
       " 209,\n",
       " 210,\n",
       " 211,\n",
       " 212,\n",
       " 213,\n",
       " 214,\n",
       " 215,\n",
       " 216,\n",
       " 217,\n",
       " 218,\n",
       " 219,\n",
       " 220,\n",
       " 221,\n",
       " 222,\n",
       " 223,\n",
       " 224,\n",
       " 225,\n",
       " 226,\n",
       " 227,\n",
       " 228,\n",
       " 229,\n",
       " 230,\n",
       " 231,\n",
       " 232,\n",
       " 233,\n",
       " 234,\n",
       " 235,\n",
       " 236,\n",
       " 237,\n",
       " 238,\n",
       " 239,\n",
       " 240,\n",
       " 241,\n",
       " 242,\n",
       " 243,\n",
       " 244,\n",
       " 245,\n",
       " 246,\n",
       " 247,\n",
       " 248,\n",
       " 249,\n",
       " 250,\n",
       " 251,\n",
       " 252,\n",
       " 253,\n",
       " 254,\n",
       " 255}"
      ]
     },
     "execution_count": 213,
     "metadata": {},
     "output_type": "execute_result"
    }
   ],
   "source": []
  },
  {
   "cell_type": "code",
   "execution_count": 218,
   "metadata": {},
   "outputs": [],
   "source": [
    "#imgplot = plt.imshow(BR)\n",
    "BR1=Image.fromarray(BR)\n",
    "BR1.show()\n"
   ]
  },
  {
   "cell_type": "code",
   "execution_count": 127,
   "metadata": {},
   "outputs": [
    {
     "data": {
      "text/plain": [
       "255"
      ]
     },
     "execution_count": 127,
     "metadata": {},
     "output_type": "execute_result"
    }
   ],
   "source": []
  },
  {
   "cell_type": "code",
   "execution_count": 101,
   "metadata": {},
   "outputs": [
    {
     "data": {
      "text/plain": [
       "1714"
      ]
     },
     "execution_count": 101,
     "metadata": {},
     "output_type": "execute_result"
    }
   ],
   "source": []
  },
  {
   "cell_type": "code",
   "execution_count": 102,
   "metadata": {},
   "outputs": [
    {
     "name": "stdout",
     "output_type": "stream",
     "text": [
      "(1714, 6100)\n"
     ]
    }
   ],
   "source": []
  },
  {
   "cell_type": "code",
   "execution_count": 103,
   "metadata": {},
   "outputs": [],
   "source": []
  },
  {
   "cell_type": "code",
   "execution_count": 88,
   "metadata": {},
   "outputs": [
    {
     "data": {
      "text/plain": [
       "0"
      ]
     },
     "execution_count": 88,
     "metadata": {},
     "output_type": "execute_result"
    }
   ],
   "source": []
  },
  {
   "cell_type": "code",
   "execution_count": 94,
   "metadata": {},
   "outputs": [
    {
     "data": {
      "text/plain": [
       "array([[240, 240, 240, ..., 240, 240, 240],\n",
       "       [240, 240, 240, ..., 240, 240, 240],\n",
       "       [240, 240, 240, ..., 240, 240, 240],\n",
       "       ..., \n",
       "       [240, 240, 240, ..., 240, 240, 240],\n",
       "       [240, 240, 240, ..., 240, 240, 240],\n",
       "       [240, 240, 240, ..., 240, 240, 240]], dtype=uint8)"
      ]
     },
     "execution_count": 94,
     "metadata": {},
     "output_type": "execute_result"
    }
   ],
   "source": []
  },
  {
   "cell_type": "code",
   "execution_count": 104,
   "metadata": {},
   "outputs": [
    {
     "data": {
      "text/plain": [
       "array([[481, 481, 481, ..., 481, 481, 481],\n",
       "       [481, 481, 481, ..., 481, 481, 481],\n",
       "       [481, 481, 481, ..., 481, 481, 481],\n",
       "       ..., \n",
       "       [481, 481, 481, ..., 481, 481, 481],\n",
       "       [481, 481, 481, ..., 481, 481, 481],\n",
       "       [481, 481, 481, ..., 481, 481, 481]])"
      ]
     },
     "execution_count": 104,
     "metadata": {},
     "output_type": "execute_result"
    }
   ],
   "source": []
  },
  {
   "cell_type": "code",
   "execution_count": 108,
   "metadata": {},
   "outputs": [
    {
     "data": {
      "text/plain": [
       "array([[0, 0, 0, ..., 0, 0, 0],\n",
       "       [0, 0, 0, ..., 0, 0, 0],\n",
       "       [0, 0, 0, ..., 0, 0, 0],\n",
       "       ..., \n",
       "       [0, 0, 0, ..., 0, 0, 0],\n",
       "       [0, 0, 0, ..., 0, 0, 0],\n",
       "       [0, 0, 0, ..., 0, 0, 0]])"
      ]
     },
     "execution_count": 108,
     "metadata": {},
     "output_type": "execute_result"
    }
   ],
   "source": []
  },
  {
   "cell_type": "code",
   "execution_count": null,
   "metadata": {},
   "outputs": [],
   "source": []
  }
 ],
 "metadata": {
  "kernelspec": {
   "display_name": "Python 3",
   "language": "python",
   "name": "python3"
  },
  "language_info": {
   "codemirror_mode": {
    "name": "ipython",
    "version": 2
   },
   "file_extension": ".py",
   "mimetype": "text/x-python",
   "name": "python",
   "nbconvert_exporter": "python",
   "pygments_lexer": "ipython2",
   "version": "2.7.10"
  }
 },
 "nbformat": 4,
 "nbformat_minor": 2
}
